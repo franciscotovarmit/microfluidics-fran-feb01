{
 "cells": [
  {
   "cell_type": "markdown",
   "metadata": {},
   "source": [
    "Single Tee"
   ]
  },
  {
   "cell_type": "code",
   "execution_count": 1,
   "metadata": {
    "collapsed": false
   },
   "outputs": [
    {
     "name": "stdout",
     "output_type": "stream",
     "text": [
      "This is not the main file. Run 'execute.py' in the same folder\n"
     ]
    }
   ],
   "source": [
    "from microfluidics_ipkiss3.technology import * #comment when running main script, uncomment to debug geometry\n",
    "from ipkiss3 import all as i3\n",
    "import microfluidics_ipkiss3.all as microfluidics\n",
    "\n",
    "import math\n",
    "# This script contains two classes.\n",
    "# Class 1:  TeeSimple: overlapping geometries\n",
    "# Class 2: TeeBoolean: adding geometries with boolean operation\n",
    "\n",
    "class TeeSimple(i3.PCell):\n",
    "    \"\"\"A generic Tee to connect elements. It is defined by a boundary which are defined by points\n",
    "    \"\"\"\n",
    "    channel_template = microfluidics.ChannelTemplateProperty(default=microfluidics.ShortChannelTemplate(), doc=\"Channel template of the tee\")\n",
    "    _name_prefix = \"Tee\" # a prefix added to the unique identifier\n",
    "    TECH = i3.get_technology()\n",
    "\n",
    "    class Layout(i3.LayoutView):\n",
    "\n",
    "        tee_length = i3.NumberProperty(default=10.0, doc=\"length of each tee branch\")\n",
    "\n",
    "        def _generate_instances(self, elems):# insts):\n",
    "            channel1 = microfluidics.Channel(trace_template = self.cell.channel_template)\n",
    "            channel1_lo = channel1.Layout(shape=i3.Shape([(0, -self.tee_length), (0, self.tee_length)]))\n",
    "            elems += i3.SRef(channel1, position=(0, 0))\n",
    "\n",
    "            channel2 = microfluidics.Channel(trace_template=self.cell.channel_template)\n",
    "            channel2_lo = channel2.Layout(shape=[(0, 0), (-self.tee_length, 0)])\n",
    "            elems += i3.SRef(channel2, position=(self.tee_length, 0))\n",
    "\n",
    "            return elems #insts\n",
    "\n",
    "        def _generate_ports(self, ports):\n",
    "            #port1\n",
    "            ports += microfluidics.FluidicPort(name='in1',\n",
    "                                               position = (0, -self.tee_length),\n",
    "                                               direction = i3.PORT_DIRECTION.IN,\n",
    "                                               angle_deg=270,\n",
    "                                               trace_template=self.cell.channel_template\n",
    "                                               )\n",
    "            #port2\n",
    "            ports += microfluidics.FluidicPort(name='in2',\n",
    "                                               position = (0, self.tee_length),\n",
    "                                               direction = i3.PORT_DIRECTION.IN,\n",
    "                                               angle_deg=90,\n",
    "                                               trace_template=self.cell.channel_template\n",
    "                                               )\n",
    "            #port3\n",
    "            ports += microfluidics.FluidicPort(name='out1',\n",
    "                                               position = (self.tee_length, 0.0),\n",
    "                                               direction = i3.PORT_DIRECTION.OUT,\n",
    "                                               angle_deg=0,\n",
    "                                               trace_template=self.cell.channel_template\n",
    "                                               )\n",
    "            return ports\n",
    "\n",
    "class TeeBoolean(i3.PCell):\n",
    "    \"\"\"A generic Tee to connect elements. It is defined by a boundary which are defined by points\n",
    "    \"\"\"\n",
    "    channel_template = microfluidics.ChannelTemplateProperty(default=microfluidics.ShortChannelTemplate(), doc=\"Channel template of the tee\")\n",
    "    _name_prefix = \"TeeBoolean\" # a prefix added to the unique identifier\n",
    "\n",
    "    class Layout(i3.LayoutView):\n",
    "        tee_length = i3.NumberProperty(default=10.0, doc=\"length of each tee branch\")\n",
    "\n",
    "        def _generate_elements(self, elems):# insts):\n",
    "\n",
    "\n",
    "            rectangle = i3.RoundedRectangle(layer=i3.TECH.PPLAYER.CH2.TRENCH, center=(0.0, 0.0), box_size=(self.tee_length,2*self.tee_length), radius=1.0)\n",
    "            rectangle2 = i3.RoundedRectangle(layer=i3.TECH.PPLAYER.CH2.TRENCH, center=(0.5*self.tee_length, 0.0), box_size=(self.tee_length,self.tee_length), radius=1.0)\n",
    "            #boolean operation add main trap and 1st rectangle\n",
    "            b_add =  rectangle  | rectangle2\n",
    "            s= i3.Structure(elements = b_add)\n",
    "            elems += i3.SRef(s)\n",
    "\n",
    "            return elems #insts\n",
    "\n",
    "        def _generate_ports(self, ports):\n",
    "            #port1\n",
    "            ports += microfluidics.FluidicPort(name='in1',\n",
    "                                               position = (0, -self.tee_length),\n",
    "                                               direction = i3.PORT_DIRECTION.IN,\n",
    "                                               angle_deg=270,\n",
    "                                               trace_template=self.cell.channel_template\n",
    "                                               )\n",
    "            #port2\n",
    "            ports += microfluidics.FluidicPort(name='in2',\n",
    "                                               position = (0, self.tee_length),\n",
    "                                               direction = i3.PORT_DIRECTION.IN,\n",
    "                                               angle_deg=90,\n",
    "                                               trace_template=self.cell.channel_template\n",
    "                                               )\n",
    "            #port3\n",
    "            ports += microfluidics.FluidicPort(name='out1',\n",
    "                                               position = (self.tee_length, 0.0),\n",
    "                                               direction = i3.PORT_DIRECTION.OUT,\n",
    "                                               angle_deg=0,\n",
    "                                               trace_template=self.cell.channel_template\n",
    "                                               )\n",
    "            return ports\n",
    "\n",
    "class TeePoints(i3.PCell):\n",
    "    \"\"\"A generic Tee to connect elements. It is defined by a boundary which are defined by points\n",
    "    \"\"\"\n",
    "    channel_template = microfluidics.ChannelTemplateProperty(default=microfluidics.ShortChannelTemplate(), doc=\"Channel template of the tee\")\n",
    "    _name_prefix = \"TeePoints\" # a prefix added to the unique identifier\n",
    "    TECH = i3.get_technology()\n",
    "    class Layout(i3.LayoutView):\n",
    "\n",
    "        tee_length = i3.NumberProperty(default=10.0, doc=\"length of each tee branch\")\n",
    "        radius_fillet = i3.NumberProperty(default=65, doc=\"length of each tee branch\")\n",
    "\n",
    "        def _generate_elements(self, insts):\n",
    "            #print 'self.cell.channel_template', self.cell.channel_template.Layout.channel_width\n",
    "\n",
    "            point_list = []\n",
    "            point_list.append((-self.tee_length, -self.tee_length))\n",
    "            point_list.insert(0, (-self.tee_length, self.tee_length))\n",
    "\n",
    "            point_list.append((0, -self.tee_length))\n",
    "            point_list.insert(0, (0, self.tee_length))\n",
    "\n",
    "\n",
    "            point_list.append((self.tee_length*0.0, -self.tee_length*0.5))\n",
    "            point_list.insert(0, (self.tee_length*0.0, self.tee_length*0.5))\n",
    "\n",
    "            point_list.append((self.tee_length, -self.tee_length*0.5))\n",
    "            point_list.insert(0, (self.tee_length, self.tee_length*0.5))\n",
    "\n",
    "\n",
    "            print point_list\n",
    "            t = i3.Shape(point_list, closed=True)\n",
    "            bo2 = i3.Boundary(i3.TECH.PPLAYER.CH2.TRENCH, t)\n",
    "\n",
    "            #rectang = i3.ShapeRound(original_shape=t, start_face_angle=0, end_face_angle=0, radius=self.radius_fillet)\n",
    "            #bo2 = i3.Boundary(i3.TECH.PPLAYER.CH2.TRENCH, bo2)\n",
    "\n",
    "            s2 = i3.Structure(elements=bo2)\n",
    "            insts += bo2\n",
    "\n",
    "            return  insts\n",
    "\n",
    "        def _generate_ports(self, ports):\n",
    "            #port1\n",
    "            ports += microfluidics.FluidicPort(name='in1',\n",
    "                                               position = (-self.tee_length*0.5, -self.tee_length),\n",
    "                                               direction = i3.PORT_DIRECTION.IN,\n",
    "                                               angle_deg=270,\n",
    "                                               trace_template=self.cell.channel_template\n",
    "                                               )\n",
    "            #port2\n",
    "            ports += microfluidics.FluidicPort(name='in2',\n",
    "                                               position = (-self.tee_length*0.5, self.tee_length),\n",
    "                                               direction = i3.PORT_DIRECTION.IN,\n",
    "                                               angle_deg=90,\n",
    "                                               trace_template=self.cell.channel_template\n",
    "                                               )\n",
    "            #port3\n",
    "            ports += microfluidics.FluidicPort(name='out1',\n",
    "                                               position = (self.tee_length, 0.0),\n",
    "                                               direction = i3.PORT_DIRECTION.IN,\n",
    "                                               angle_deg=0,\n",
    "                                               trace_template=self.cell.channel_template\n",
    "                                               )\n",
    "            return ports\n",
    "\n",
    "if __name__ == \"__main__\":\n",
    "    print \"This is not the main file. Run 'execute.py' in the same folder\"\n",
    "    '''tee = TeeSimple()\n",
    "    tee_layout= tee.Layout(tee_length=100)\n",
    "    tee_layout.visualize(annotate = True)\n",
    "    tee_layout.visualize_2d()'''\n",
    "\n",
    "\n",
    "    #tee = TeePointsBoolean()  #TeeBoolean()#\n",
    "    tee = TeeSimple()\n",
    "    tee_layout= tee.Layout(tee_length=200)\n",
    "    tee_layout.visualize(annotate = True)\n",
    "    tee_layout.visualize_2d()\n",
    "\n",
    "\n"
   ]
  },
  {
   "cell_type": "code",
   "execution_count": 3,
   "metadata": {
    "collapsed": false
   },
   "outputs": [
    {
     "data": {
      "image/png": "[encoded data removed]",
      "text/plain": [
       "<IPython.core.display.Image object>"
      ]
     },
     "execution_count": 3,
     "metadata": {
      "image/png": {
       "height": 300,
       "width": 600
      }
     },
     "output_type": "execute_result"
    }
   ],
   "source": [
    "#Import library\n",
    "from IPython.display import Image# Load image from local storage\n",
    "Image(filename = \"files/tee.png\", width = 600, height = 300)\n"
   ]
  },
  {
   "cell_type": "code",
   "execution_count": 4,
   "metadata": {
    "collapsed": false
   },
   "outputs": [
    {
     "data": {
      "image/png": "[encoded data removed]",
      "text/plain": [
       "<IPython.core.display.Image object>"
      ]
     },
     "execution_count": 4,
     "metadata": {
      "image/png": {
       "height": 300,
       "width": 600
      }
     },
     "output_type": "execute_result"
    }
   ],
   "source": [
    "#Import library\n",
    "from IPython.display import Image# Load image from local storage\n",
    "Image(filename = \"files/tee_2d.png\", width = 600, height = 300)"
   ]
  },
  {
   "cell_type": "markdown",
   "metadata": {},
   "source": [
    "STL generation"
   ]
  },
  {
   "cell_type": "code",
   "execution_count": null,
   "metadata": {
    "collapsed": true
   },
   "outputs": [],
   "source": [
    "\n",
    "#Import library\n",
    "from IPython.display import Image# Load image from local storage\n",
    "Image(filename = \"files/tee_stl.png\", width = 600, height = 300)"
   ]
  },
  {
   "cell_type": "code",
   "execution_count": 5,
   "metadata": {
    "collapsed": false
   },
   "outputs": [
    {
     "name": "stdout",
     "output_type": "stream",
     "text": [
      "\n",
      "\n",
      "Finish generating mesh.\n",
      "\n",
      "Final mesh is in tee1/constant/polyMesh\n",
      "\n",
      "Exiting...\n"
     ]
    },
    {
     "name": "stderr",
     "output_type": "stream",
     "text": [
      "ERROR: Execution failed: blockMesh: [Errno 2] No such file or directory\n",
      "ERROR: Execution failed: surfaceFeatureExtract: [Errno 2] No such file or directory\n",
      "ERROR: Execution failed: snappyHexMesh: [Errno 2] No such file or directory\n"
     ]
    },
    {
     "ename": "SystemExit",
     "evalue": "0",
     "output_type": "error",
     "traceback": [
      "An exception has occurred, use %tb to see the full traceback.\n",
      "\u001b[0;31mSystemExit\u001b[0m\u001b[0;31m:\u001b[0m 0\n"
     ]
    },
    {
     "name": "stderr",
     "output_type": "stream",
     "text": [
      "/home/fran/anaconda2/envs/ipkiss3/lib/python2.7/site-packages/IPython/core/interactiveshell.py:2886: UserWarning: To exit: use 'exit', 'quit', or Ctrl-D.\n",
      "  warn(\"To exit: use 'exit', 'quit', or Ctrl-D.\", stacklevel=1)\n"
     ]
    }
   ],
   "source": [
    "    #generating STL and OF sim\n",
    "\n",
    "    from microfluidics_ipkiss3.pysimul.openfoam.openfoam_engine import *\n",
    "    from microfluidics_ipkiss3.pysimul.openfoam.turbulence_model import *\n",
    "    from microfluidics_ipkiss3.pysimul.openfoam.transport_model import *\n",
    "\n",
    "    # Control how the mesh is generated\n",
    "\n",
    "    snap_control = SnapControl(num_smooth_patch=1)\n",
    "    add_layer_control = AddLayerControl(final_layer_thickness=10, min_thickness=1, num_grow=10)\n",
    "    mesh_quality_control = MeshQualityControl(max_non_orthogonal=90)\n",
    "    mesh_control = MeshControl(mesh_size=20, feature_refinement_level=2,\n",
    "                               surface_refinement_level=(1, 2),\n",
    "                               refinement_regions=[(1, 2)],\n",
    "                               snap_mesh=True, snap_control=snap_control,\n",
    "                               add_layer=True, add_layer_control=add_layer_control,\n",
    "                               mesh_quality_control=mesh_quality_control)\n",
    "\n",
    "    # Transport and turbulence models\n",
    "\n",
    "    transport_model = NewtonianModel(kinematic_viscosity=0.001 / 1050)\n",
    "    turbulence_model = LaminarModel()\n",
    "\n",
    "    # Create a list of properties required by simpleFoam solver including the transport property\n",
    "    # and a list of properties returned by turbulenace model\n",
    "\n",
    "    properties = [transport_model.get_model_property()] + turbulence_model.get_model_properties()\n",
    "\n",
    "    # Initialise the engine with simpleFoam solver\n",
    "\n",
    "    engine = OpenFoamEngine(mesh_control=mesh_control, solver='simpleFoam',\n",
    "                            properties=properties)\n",
    "\n",
    "    from microfluidics_ipkiss3.pysimul.runtime.basic import *\n",
    "\n",
    "    params = dict()\n",
    "    params[\"engine\"] = engine\n",
    "    params[\"inlets\"] = [FixedVelocityInlet(in_port_number=0, velocity=(0, 50e-3, 0)),\n",
    "                        FixedVelocityInlet(in_port_number=1, velocity=(0.0, -50e-3, 0.0)),\n",
    "                        #FixedVelocityInlet(in_port_number=2, velocity=(0.0, 30e-3, 0.0))\n",
    "                         ]\n",
    "\n",
    "\n",
    "    window_si = SizeInfo(west=-260, east=260, south=-360, north=360)\n",
    "    #params[\"window_size_info\"] = window_si\n",
    "\n",
    "    # 2D simulation\n",
    "    params[\"dimensions\"] = 3\n",
    "\n",
    "    # Create and run simulation\n",
    "\n",
    "    from ipkiss.plugins.simulation import *\n",
    "\n",
    "    simul = tee_layout.create_simulation(simul_params=params)\n",
    "\n",
    "    # Start running simulation\n",
    "\n",
    "    simul.procedure.run(case_name='tee1', use_existing_mesh=False, interactive=True)\n"
   ]
  },
  {
   "cell_type": "code",
   "execution_count": null,
   "metadata": {
    "collapsed": true
   },
   "outputs": [],
   "source": []
  }
 ],
 "metadata": {
  "kernelspec": {
   "display_name": "Python 2",
   "language": "python",
   "name": "python2"
  },
  "language_info": {
   "codemirror_mode": {
    "name": "ipython",
    "version": 2
   },
   "file_extension": ".py",
   "mimetype": "text/x-python",
   "name": "python",
   "nbconvert_exporter": "python",
   "pygments_lexer": "ipython2",
   "version": "2.7.17"
  }
 },
 "nbformat": 4,
 "nbformat_minor": 2
}
