{
 "cells": [
  {
   "cell_type": "markdown",
   "metadata": {},
   "source": [
    "## Microfluidic components with openfoam simulation\n",
    "\n",
    "\n",
    "A notebook to illustrate how to run openfoam simulation on components"
   ]
  },
  {
   "cell_type": "code",
   "execution_count": null,
   "metadata": {
    "collapsed": true
   },
   "outputs": [],
   "source": [
    "%matplotlib inline"
   ]
  },
  {
   "cell_type": "code",
   "execution_count": null,
   "metadata": {
    "collapsed": true
   },
   "outputs": [],
   "source": [
    "import sys\n",
    "sys.path.append(\"C:/Users/e54491/OneDrive - RMIT University-/Investigations/Staff/Francisco/microfluidics\") # Change this\n",
    "sys.path.append(\"C:/Users/e54491/OneDrive - RMIT University-/Software\") # Change this to the location containing microfluidics_ipkiss3"
   ]
  },
  {
   "cell_type": "markdown",
   "metadata": {},
   "source": [
    "Importing microfluidic technology:"
   ]
  },
  {
   "cell_type": "code",
   "execution_count": null,
   "metadata": {
    "collapsed": true
   },
   "outputs": [],
   "source": [
    "from microfluidics_ipkiss3.technology import *"
   ]
  },
  {
   "cell_type": "markdown",
   "metadata": {},
   "source": [
    "Importing openfoam simulation interface:"
   ]
  },
  {
   "cell_type": "code",
   "execution_count": null,
   "metadata": {
    "collapsed": true
   },
   "outputs": [],
   "source": [
    "from microfluidics_ipkiss3.pysimul.openfoam.openfoam_engine import *\n",
    "from microfluidics_ipkiss3.pysimul.openfoam.turbulence_model import *\n",
    "from microfluidics_ipkiss3.pysimul.openfoam.transport_model import *\n",
    "from microfluidics_ipkiss3.pysimul.runtime.basic import *\n"
   ]
  },
  {
   "cell_type": "markdown",
   "metadata": {},
   "source": [
    "## 1. Openfoam simulation of a cell trap"
   ]
  },
  {
   "cell_type": "markdown",
   "metadata": {},
   "source": [
    "Create a cell trap:"
   ]
  },
  {
   "cell_type": "code",
   "execution_count": null,
   "metadata": {
    "collapsed": false
   },
   "outputs": [],
   "source": [
    "from components import CellTrapSimple"
   ]
  },
  {
   "cell_type": "code",
   "execution_count": null,
   "metadata": {
    "collapsed": false
   },
   "outputs": [],
   "source": [
    "trap = CellTrapSimple()\n",
    "trap_layout= trap.Layout(radius_fillet=10)\n",
    "trap_layout.visualize(annotate = True)\n",
    "trap_layout.visualize_2d()"
   ]
  },
  {
   "cell_type": "markdown",
   "metadata": {},
   "source": [
    "Define parameters to control how openfoam mesh is generated:"
   ]
  },
  {
   "cell_type": "code",
   "execution_count": null,
   "metadata": {
    "collapsed": true
   },
   "outputs": [],
   "source": [
    "snap_control = SnapControl(num_smooth_patch=1)\n",
    "add_layer_control = AddLayerControl(final_layer_thickness=10, min_thickness=1, num_grow=10)\n",
    "mesh_quality_control = MeshQualityControl(max_non_orthogonal=90)\n",
    "mesh_control = MeshControl(mesh_size=20, feature_refinement_level=2,\n",
    "                               surface_refinement_level=(1, 2),\n",
    "                               refinement_regions=[(1, 2)],\n",
    "                               snap_mesh=True, snap_control=snap_control,\n",
    "                               add_layer=True, add_layer_control=add_layer_control,\n",
    "                               mesh_quality_control=mesh_quality_control)"
   ]
  },
  {
   "cell_type": "markdown",
   "metadata": {},
   "source": [
    "Define transport and turbulence models:"
   ]
  },
  {
   "cell_type": "code",
   "execution_count": null,
   "metadata": {
    "collapsed": true
   },
   "outputs": [],
   "source": [
    "transport_model = NewtonianModel(kinematic_viscosity=0.001 / 1050)\n",
    "turbulence_model = LaminarModel()"
   ]
  },
  {
   "cell_type": "markdown",
   "metadata": {},
   "source": [
    "Create a list of properties required by simpleFoam solver including the transport property and a list of properties returned by turbulenace model:"
   ]
  },
  {
   "cell_type": "code",
   "execution_count": null,
   "metadata": {
    "collapsed": true
   },
   "outputs": [],
   "source": [
    "properties = [transport_model.get_model_property()] + turbulence_model.get_model_properties()"
   ]
  },
  {
   "cell_type": "markdown",
   "metadata": {},
   "source": [
    "Initialise the engine with simpleFoam solver:"
   ]
  },
  {
   "cell_type": "code",
   "execution_count": null,
   "metadata": {
    "collapsed": false
   },
   "outputs": [],
   "source": [
    "engine = OpenFoamEngine(mesh_control=mesh_control, solver='simpleFoam',\n",
    "                            properties=properties)\n",
    "\n",
    "params = dict()\n",
    "params[\"engine\"] = engine\n",
    "params[\"inlets\"] = [FixedVelocityInlet(in_port_number=0, velocity=(50e-3, 0, 0))]\n",
    "\n",
    "\n",
    "window_si = SizeInfo(west=-250, east=250, south=-360, north=360)\n",
    "params[\"window_size_info\"] = window_si\n",
    "\n",
    "# 2D simulation\n",
    "params[\"dimensions\"] = 3"
   ]
  },
  {
   "cell_type": "markdown",
   "metadata": {},
   "source": [
    "Create and run simulation:"
   ]
  },
  {
   "cell_type": "code",
   "execution_count": null,
   "metadata": {
    "collapsed": false
   },
   "outputs": [],
   "source": [
    "from ipkiss.plugins.simulation import *\n",
    "simul = trap_layout.create_simulation(simul_params=params)\n",
    "\n",
    "# Start running simulation\n",
    "\n",
    "simul.procedure.run(case_name='trap', use_existing_mesh=False, interactive=True)"
   ]
  }
 ],
 "metadata": {
  "kernelspec": {
   "display_name": "Python 2",
   "language": "python",
   "name": "python2"
  },
  "language_info": {
   "codemirror_mode": {
    "name": "ipython",
    "version": 2
   },
   "file_extension": ".py",
   "mimetype": "text/x-python",
   "name": "python",
   "nbconvert_exporter": "python",
   "pygments_lexer": "ipython2",
   "version": "2.7.17"
  }
 },
 "nbformat": 4,
 "nbformat_minor": 2
}
